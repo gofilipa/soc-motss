{
 "cells": [
  {
   "cell_type": "code",
   "execution_count": 25,
   "id": "25a4a814",
   "metadata": {},
   "outputs": [],
   "source": [
    "import pandas as pd"
   ]
  },
  {
   "cell_type": "code",
   "execution_count": 26,
   "id": "fa59bdf5",
   "metadata": {},
   "outputs": [],
   "source": [
    "df = pd.read_parquet('soc-motss-tokens.parquet')"
   ]
  },
  {
   "cell_type": "code",
   "execution_count": 27,
   "id": "180a0731",
   "metadata": {},
   "outputs": [
    {
     "data": {
      "text/html": [
       "<div>\n",
       "<style scoped>\n",
       "    .dataframe tbody tr th:only-of-type {\n",
       "        vertical-align: middle;\n",
       "    }\n",
       "\n",
       "    .dataframe tbody tr th {\n",
       "        vertical-align: top;\n",
       "    }\n",
       "\n",
       "    .dataframe thead th {\n",
       "        text-align: right;\n",
       "    }\n",
       "</style>\n",
       "<table border=\"1\" class=\"dataframe\">\n",
       "  <thead>\n",
       "    <tr style=\"text-align: right;\">\n",
       "      <th></th>\n",
       "      <th>crawl_date</th>\n",
       "      <th>last_modified_date</th>\n",
       "      <th>domain</th>\n",
       "      <th>url</th>\n",
       "      <th>mime_type_web_server</th>\n",
       "      <th>mime_type_tika</th>\n",
       "      <th>language</th>\n",
       "      <th>content</th>\n",
       "      <th>tokens</th>\n",
       "    </tr>\n",
       "  </thead>\n",
       "  <tbody>\n",
       "    <tr>\n",
       "      <th>0</th>\n",
       "      <td>20050210120429</td>\n",
       "      <td>20050208125445</td>\n",
       "      <td>soc-motss.org</td>\n",
       "      <td>http://www.soc-motss.org:80/</td>\n",
       "      <td>text/html</td>\n",
       "      <td>text/html</td>\n",
       "      <td>en</td>\n",
       "      <td>Soc.Motss Archive 2005.02.08</td>\n",
       "      <td>[soc, motss, archive]</td>\n",
       "    </tr>\n",
       "    <tr>\n",
       "      <th>1</th>\n",
       "      <td>20130506181310</td>\n",
       "      <td>20101201064017</td>\n",
       "      <td>soc-motss.org</td>\n",
       "      <td>http://soc-motss.org</td>\n",
       "      <td>text/html</td>\n",
       "      <td>text/html</td>\n",
       "      <td>en</td>\n",
       "      <td>Soc.Motss Archive 2010.12.08</td>\n",
       "      <td>[soc, motss, archive]</td>\n",
       "    </tr>\n",
       "    <tr>\n",
       "      <th>2</th>\n",
       "      <td>20040129004942</td>\n",
       "      <td>20040117014941</td>\n",
       "      <td>soc-motss.org</td>\n",
       "      <td>http://www.soc-motss.org:80/</td>\n",
       "      <td>text/html</td>\n",
       "      <td>text/html</td>\n",
       "      <td>en</td>\n",
       "      <td>Soc.Motss Archive 2004.01.16</td>\n",
       "      <td>[soc, motss, archive]</td>\n",
       "    </tr>\n",
       "    <tr>\n",
       "      <th>3</th>\n",
       "      <td>20040829160028</td>\n",
       "      <td>20040825041620</td>\n",
       "      <td>soc-motss.org</td>\n",
       "      <td>http://www.soc-motss.org:80/</td>\n",
       "      <td>text/html</td>\n",
       "      <td>text/html</td>\n",
       "      <td>en</td>\n",
       "      <td>Soc.Motss Archive 2004.08.24</td>\n",
       "      <td>[soc, motss, archive]</td>\n",
       "    </tr>\n",
       "    <tr>\n",
       "      <th>4</th>\n",
       "      <td>20030603214224</td>\n",
       "      <td>20030601052532</td>\n",
       "      <td>soc-motss.org</td>\n",
       "      <td>http://www.soc-motss.org:80/</td>\n",
       "      <td>text/html</td>\n",
       "      <td>text/html</td>\n",
       "      <td>en</td>\n",
       "      <td>Soc.Motss Archive 2003.06.01</td>\n",
       "      <td>[soc, motss, archive]</td>\n",
       "    </tr>\n",
       "    <tr>\n",
       "      <th>...</th>\n",
       "      <td>...</td>\n",
       "      <td>...</td>\n",
       "      <td>...</td>\n",
       "      <td>...</td>\n",
       "      <td>...</td>\n",
       "      <td>...</td>\n",
       "      <td>...</td>\n",
       "      <td>...</td>\n",
       "      <td>...</td>\n",
       "    </tr>\n",
       "    <tr>\n",
       "      <th>1414</th>\n",
       "      <td>20220117091737</td>\n",
       "      <td></td>\n",
       "      <td>soc-motss.org</td>\n",
       "      <td>https://www.soc-motss.org/treatment-for-planta...</td>\n",
       "      <td>text/html</td>\n",
       "      <td>text/html</td>\n",
       "      <td>en</td>\n",
       "      <td>Treatment For Plantar Fasciitis - SOC-MOTSS Sk...</td>\n",
       "      <td>[treatment, plantar, fasciitis, soc, motss, sk...</td>\n",
       "    </tr>\n",
       "    <tr>\n",
       "      <th>1415</th>\n",
       "      <td>20220117101843</td>\n",
       "      <td></td>\n",
       "      <td>soc-motss.org</td>\n",
       "      <td>https://www.soc-motss.org/why-buying-medical-l...</td>\n",
       "      <td>text/html</td>\n",
       "      <td>text/html</td>\n",
       "      <td>en</td>\n",
       "      <td>Why Buying Medical Lasers Is Important - SOC-M...</td>\n",
       "      <td>[buying, medical, lasers, important, soc, mots...</td>\n",
       "    </tr>\n",
       "    <tr>\n",
       "      <th>1416</th>\n",
       "      <td>20220117105930</td>\n",
       "      <td></td>\n",
       "      <td>soc-motss.org</td>\n",
       "      <td>https://www.soc-motss.org/why-muscles-feel-tig...</td>\n",
       "      <td>text/html</td>\n",
       "      <td>text/html</td>\n",
       "      <td>en</td>\n",
       "      <td>Why Muscles Feel Tight After Playing Sports? -...</td>\n",
       "      <td>[muscles, feel, tight, play, sports, soc, mots...</td>\n",
       "    </tr>\n",
       "    <tr>\n",
       "      <th>1417</th>\n",
       "      <td>20211025092535</td>\n",
       "      <td></td>\n",
       "      <td>soc-motss.org</td>\n",
       "      <td>https://www.soc-motss.org/contact-us/</td>\n",
       "      <td>text/html</td>\n",
       "      <td>text/html</td>\n",
       "      <td>en</td>\n",
       "      <td>Contact Us - SOC-MOTSS Skip to content SOC-MOT...</td>\n",
       "      <td>[contact, soc, motss, skip, content, soc, mots...</td>\n",
       "    </tr>\n",
       "    <tr>\n",
       "      <th>1418</th>\n",
       "      <td>20190312235122</td>\n",
       "      <td></td>\n",
       "      <td>youtube.com</td>\n",
       "      <td>https://www.youtube.com/embed/Z2jJ9SzxWGk?wmod...</td>\n",
       "      <td>text/html</td>\n",
       "      <td>text/html</td>\n",
       "      <td>en</td>\n",
       "      <td>7 Juices To Remove Uric Acid From Body And Rel...</td>\n",
       "      <td>[juice, remove, uric, acid, body, relieve, gou...</td>\n",
       "    </tr>\n",
       "  </tbody>\n",
       "</table>\n",
       "<p>1419 rows × 9 columns</p>\n",
       "</div>"
      ],
      "text/plain": [
       "          crawl_date last_modified_date         domain  \\\n",
       "0     20050210120429     20050208125445  soc-motss.org   \n",
       "1     20130506181310     20101201064017  soc-motss.org   \n",
       "2     20040129004942     20040117014941  soc-motss.org   \n",
       "3     20040829160028     20040825041620  soc-motss.org   \n",
       "4     20030603214224     20030601052532  soc-motss.org   \n",
       "...              ...                ...            ...   \n",
       "1414  20220117091737                     soc-motss.org   \n",
       "1415  20220117101843                     soc-motss.org   \n",
       "1416  20220117105930                     soc-motss.org   \n",
       "1417  20211025092535                     soc-motss.org   \n",
       "1418  20190312235122                       youtube.com   \n",
       "\n",
       "                                                    url mime_type_web_server  \\\n",
       "0                          http://www.soc-motss.org:80/            text/html   \n",
       "1                                  http://soc-motss.org            text/html   \n",
       "2                          http://www.soc-motss.org:80/            text/html   \n",
       "3                          http://www.soc-motss.org:80/            text/html   \n",
       "4                          http://www.soc-motss.org:80/            text/html   \n",
       "...                                                 ...                  ...   \n",
       "1414  https://www.soc-motss.org/treatment-for-planta...            text/html   \n",
       "1415  https://www.soc-motss.org/why-buying-medical-l...            text/html   \n",
       "1416  https://www.soc-motss.org/why-muscles-feel-tig...            text/html   \n",
       "1417              https://www.soc-motss.org/contact-us/            text/html   \n",
       "1418  https://www.youtube.com/embed/Z2jJ9SzxWGk?wmod...            text/html   \n",
       "\n",
       "     mime_type_tika language  \\\n",
       "0         text/html       en   \n",
       "1         text/html       en   \n",
       "2         text/html       en   \n",
       "3         text/html       en   \n",
       "4         text/html       en   \n",
       "...             ...      ...   \n",
       "1414      text/html       en   \n",
       "1415      text/html       en   \n",
       "1416      text/html       en   \n",
       "1417      text/html       en   \n",
       "1418      text/html       en   \n",
       "\n",
       "                                                content  \\\n",
       "0                          Soc.Motss Archive 2005.02.08   \n",
       "1                          Soc.Motss Archive 2010.12.08   \n",
       "2                          Soc.Motss Archive 2004.01.16   \n",
       "3                          Soc.Motss Archive 2004.08.24   \n",
       "4                          Soc.Motss Archive 2003.06.01   \n",
       "...                                                 ...   \n",
       "1414  Treatment For Plantar Fasciitis - SOC-MOTSS Sk...   \n",
       "1415  Why Buying Medical Lasers Is Important - SOC-M...   \n",
       "1416  Why Muscles Feel Tight After Playing Sports? -...   \n",
       "1417  Contact Us - SOC-MOTSS Skip to content SOC-MOT...   \n",
       "1418  7 Juices To Remove Uric Acid From Body And Rel...   \n",
       "\n",
       "                                                 tokens  \n",
       "0                                 [soc, motss, archive]  \n",
       "1                                 [soc, motss, archive]  \n",
       "2                                 [soc, motss, archive]  \n",
       "3                                 [soc, motss, archive]  \n",
       "4                                 [soc, motss, archive]  \n",
       "...                                                 ...  \n",
       "1414  [treatment, plantar, fasciitis, soc, motss, sk...  \n",
       "1415  [buying, medical, lasers, important, soc, mots...  \n",
       "1416  [muscles, feel, tight, play, sports, soc, mots...  \n",
       "1417  [contact, soc, motss, skip, content, soc, mots...  \n",
       "1418  [juice, remove, uric, acid, body, relieve, gou...  \n",
       "\n",
       "[1419 rows x 9 columns]"
      ]
     },
     "execution_count": 27,
     "metadata": {},
     "output_type": "execute_result"
    }
   ],
   "source": [
    "df"
   ]
  },
  {
   "cell_type": "code",
   "execution_count": 28,
   "id": "7c616612",
   "metadata": {},
   "outputs": [
    {
     "data": {
      "text/plain": [
       "pandas.core.frame.DataFrame"
      ]
     },
     "execution_count": 28,
     "metadata": {},
     "output_type": "execute_result"
    }
   ],
   "source": [
    "type(file)"
   ]
  },
  {
   "cell_type": "code",
   "execution_count": 29,
   "id": "35ad1f7e",
   "metadata": {},
   "outputs": [
    {
     "data": {
      "text/plain": [
       "1419"
      ]
     },
     "execution_count": 29,
     "metadata": {},
     "output_type": "execute_result"
    }
   ],
   "source": [
    "len(df)"
   ]
  },
  {
   "cell_type": "code",
   "execution_count": 30,
   "id": "80fca9a5",
   "metadata": {},
   "outputs": [
    {
     "data": {
      "text/html": [
       "<div>\n",
       "<style scoped>\n",
       "    .dataframe tbody tr th:only-of-type {\n",
       "        vertical-align: middle;\n",
       "    }\n",
       "\n",
       "    .dataframe tbody tr th {\n",
       "        vertical-align: top;\n",
       "    }\n",
       "\n",
       "    .dataframe thead th {\n",
       "        text-align: right;\n",
       "    }\n",
       "</style>\n",
       "<table border=\"1\" class=\"dataframe\">\n",
       "  <thead>\n",
       "    <tr style=\"text-align: right;\">\n",
       "      <th></th>\n",
       "      <th>crawl_date</th>\n",
       "      <th>last_modified_date</th>\n",
       "      <th>domain</th>\n",
       "      <th>url</th>\n",
       "      <th>mime_type_web_server</th>\n",
       "      <th>mime_type_tika</th>\n",
       "      <th>language</th>\n",
       "      <th>content</th>\n",
       "      <th>tokens</th>\n",
       "    </tr>\n",
       "  </thead>\n",
       "  <tbody>\n",
       "    <tr>\n",
       "      <th>0</th>\n",
       "      <td>20050210120429</td>\n",
       "      <td>20050208125445</td>\n",
       "      <td>soc-motss.org</td>\n",
       "      <td>http://www.soc-motss.org:80/</td>\n",
       "      <td>text/html</td>\n",
       "      <td>text/html</td>\n",
       "      <td>en</td>\n",
       "      <td>Soc.Motss Archive 2005.02.08</td>\n",
       "      <td>[soc, motss, archive]</td>\n",
       "    </tr>\n",
       "    <tr>\n",
       "      <th>1</th>\n",
       "      <td>20130506181310</td>\n",
       "      <td>20101201064017</td>\n",
       "      <td>soc-motss.org</td>\n",
       "      <td>http://soc-motss.org</td>\n",
       "      <td>text/html</td>\n",
       "      <td>text/html</td>\n",
       "      <td>en</td>\n",
       "      <td>Soc.Motss Archive 2010.12.08</td>\n",
       "      <td>[soc, motss, archive]</td>\n",
       "    </tr>\n",
       "    <tr>\n",
       "      <th>2</th>\n",
       "      <td>20040129004942</td>\n",
       "      <td>20040117014941</td>\n",
       "      <td>soc-motss.org</td>\n",
       "      <td>http://www.soc-motss.org:80/</td>\n",
       "      <td>text/html</td>\n",
       "      <td>text/html</td>\n",
       "      <td>en</td>\n",
       "      <td>Soc.Motss Archive 2004.01.16</td>\n",
       "      <td>[soc, motss, archive]</td>\n",
       "    </tr>\n",
       "    <tr>\n",
       "      <th>3</th>\n",
       "      <td>20040829160028</td>\n",
       "      <td>20040825041620</td>\n",
       "      <td>soc-motss.org</td>\n",
       "      <td>http://www.soc-motss.org:80/</td>\n",
       "      <td>text/html</td>\n",
       "      <td>text/html</td>\n",
       "      <td>en</td>\n",
       "      <td>Soc.Motss Archive 2004.08.24</td>\n",
       "      <td>[soc, motss, archive]</td>\n",
       "    </tr>\n",
       "    <tr>\n",
       "      <th>4</th>\n",
       "      <td>20030603214224</td>\n",
       "      <td>20030601052532</td>\n",
       "      <td>soc-motss.org</td>\n",
       "      <td>http://www.soc-motss.org:80/</td>\n",
       "      <td>text/html</td>\n",
       "      <td>text/html</td>\n",
       "      <td>en</td>\n",
       "      <td>Soc.Motss Archive 2003.06.01</td>\n",
       "      <td>[soc, motss, archive]</td>\n",
       "    </tr>\n",
       "    <tr>\n",
       "      <th>...</th>\n",
       "      <td>...</td>\n",
       "      <td>...</td>\n",
       "      <td>...</td>\n",
       "      <td>...</td>\n",
       "      <td>...</td>\n",
       "      <td>...</td>\n",
       "      <td>...</td>\n",
       "      <td>...</td>\n",
       "      <td>...</td>\n",
       "    </tr>\n",
       "    <tr>\n",
       "      <th>1414</th>\n",
       "      <td>20220117091737</td>\n",
       "      <td></td>\n",
       "      <td>soc-motss.org</td>\n",
       "      <td>https://www.soc-motss.org/treatment-for-planta...</td>\n",
       "      <td>text/html</td>\n",
       "      <td>text/html</td>\n",
       "      <td>en</td>\n",
       "      <td>Treatment For Plantar Fasciitis - SOC-MOTSS Sk...</td>\n",
       "      <td>[treatment, plantar, fasciitis, soc, motss, sk...</td>\n",
       "    </tr>\n",
       "    <tr>\n",
       "      <th>1415</th>\n",
       "      <td>20220117101843</td>\n",
       "      <td></td>\n",
       "      <td>soc-motss.org</td>\n",
       "      <td>https://www.soc-motss.org/why-buying-medical-l...</td>\n",
       "      <td>text/html</td>\n",
       "      <td>text/html</td>\n",
       "      <td>en</td>\n",
       "      <td>Why Buying Medical Lasers Is Important - SOC-M...</td>\n",
       "      <td>[buying, medical, lasers, important, soc, mots...</td>\n",
       "    </tr>\n",
       "    <tr>\n",
       "      <th>1416</th>\n",
       "      <td>20220117105930</td>\n",
       "      <td></td>\n",
       "      <td>soc-motss.org</td>\n",
       "      <td>https://www.soc-motss.org/why-muscles-feel-tig...</td>\n",
       "      <td>text/html</td>\n",
       "      <td>text/html</td>\n",
       "      <td>en</td>\n",
       "      <td>Why Muscles Feel Tight After Playing Sports? -...</td>\n",
       "      <td>[muscles, feel, tight, play, sports, soc, mots...</td>\n",
       "    </tr>\n",
       "    <tr>\n",
       "      <th>1417</th>\n",
       "      <td>20211025092535</td>\n",
       "      <td></td>\n",
       "      <td>soc-motss.org</td>\n",
       "      <td>https://www.soc-motss.org/contact-us/</td>\n",
       "      <td>text/html</td>\n",
       "      <td>text/html</td>\n",
       "      <td>en</td>\n",
       "      <td>Contact Us - SOC-MOTSS Skip to content SOC-MOT...</td>\n",
       "      <td>[contact, soc, motss, skip, content, soc, mots...</td>\n",
       "    </tr>\n",
       "    <tr>\n",
       "      <th>1418</th>\n",
       "      <td>20190312235122</td>\n",
       "      <td></td>\n",
       "      <td>youtube.com</td>\n",
       "      <td>https://www.youtube.com/embed/Z2jJ9SzxWGk?wmod...</td>\n",
       "      <td>text/html</td>\n",
       "      <td>text/html</td>\n",
       "      <td>en</td>\n",
       "      <td>7 Juices To Remove Uric Acid From Body And Rel...</td>\n",
       "      <td>[juice, remove, uric, acid, body, relieve, gou...</td>\n",
       "    </tr>\n",
       "  </tbody>\n",
       "</table>\n",
       "<p>1419 rows × 9 columns</p>\n",
       "</div>"
      ],
      "text/plain": [
       "          crawl_date last_modified_date         domain  \\\n",
       "0     20050210120429     20050208125445  soc-motss.org   \n",
       "1     20130506181310     20101201064017  soc-motss.org   \n",
       "2     20040129004942     20040117014941  soc-motss.org   \n",
       "3     20040829160028     20040825041620  soc-motss.org   \n",
       "4     20030603214224     20030601052532  soc-motss.org   \n",
       "...              ...                ...            ...   \n",
       "1414  20220117091737                     soc-motss.org   \n",
       "1415  20220117101843                     soc-motss.org   \n",
       "1416  20220117105930                     soc-motss.org   \n",
       "1417  20211025092535                     soc-motss.org   \n",
       "1418  20190312235122                       youtube.com   \n",
       "\n",
       "                                                    url mime_type_web_server  \\\n",
       "0                          http://www.soc-motss.org:80/            text/html   \n",
       "1                                  http://soc-motss.org            text/html   \n",
       "2                          http://www.soc-motss.org:80/            text/html   \n",
       "3                          http://www.soc-motss.org:80/            text/html   \n",
       "4                          http://www.soc-motss.org:80/            text/html   \n",
       "...                                                 ...                  ...   \n",
       "1414  https://www.soc-motss.org/treatment-for-planta...            text/html   \n",
       "1415  https://www.soc-motss.org/why-buying-medical-l...            text/html   \n",
       "1416  https://www.soc-motss.org/why-muscles-feel-tig...            text/html   \n",
       "1417              https://www.soc-motss.org/contact-us/            text/html   \n",
       "1418  https://www.youtube.com/embed/Z2jJ9SzxWGk?wmod...            text/html   \n",
       "\n",
       "     mime_type_tika language  \\\n",
       "0         text/html       en   \n",
       "1         text/html       en   \n",
       "2         text/html       en   \n",
       "3         text/html       en   \n",
       "4         text/html       en   \n",
       "...             ...      ...   \n",
       "1414      text/html       en   \n",
       "1415      text/html       en   \n",
       "1416      text/html       en   \n",
       "1417      text/html       en   \n",
       "1418      text/html       en   \n",
       "\n",
       "                                                content  \\\n",
       "0                          Soc.Motss Archive 2005.02.08   \n",
       "1                          Soc.Motss Archive 2010.12.08   \n",
       "2                          Soc.Motss Archive 2004.01.16   \n",
       "3                          Soc.Motss Archive 2004.08.24   \n",
       "4                          Soc.Motss Archive 2003.06.01   \n",
       "...                                                 ...   \n",
       "1414  Treatment For Plantar Fasciitis - SOC-MOTSS Sk...   \n",
       "1415  Why Buying Medical Lasers Is Important - SOC-M...   \n",
       "1416  Why Muscles Feel Tight After Playing Sports? -...   \n",
       "1417  Contact Us - SOC-MOTSS Skip to content SOC-MOT...   \n",
       "1418  7 Juices To Remove Uric Acid From Body And Rel...   \n",
       "\n",
       "                                                 tokens  \n",
       "0                                 [soc, motss, archive]  \n",
       "1                                 [soc, motss, archive]  \n",
       "2                                 [soc, motss, archive]  \n",
       "3                                 [soc, motss, archive]  \n",
       "4                                 [soc, motss, archive]  \n",
       "...                                                 ...  \n",
       "1414  [treatment, plantar, fasciitis, soc, motss, sk...  \n",
       "1415  [buying, medical, lasers, important, soc, mots...  \n",
       "1416  [muscles, feel, tight, play, sports, soc, mots...  \n",
       "1417  [contact, soc, motss, skip, content, soc, mots...  \n",
       "1418  [juice, remove, uric, acid, body, relieve, gou...  \n",
       "\n",
       "[1419 rows x 9 columns]"
      ]
     },
     "execution_count": 30,
     "metadata": {},
     "output_type": "execute_result"
    }
   ],
   "source": [
    "df.drop_duplicates(subset='content', keep='first')"
   ]
  },
  {
   "cell_type": "code",
   "execution_count": 31,
   "id": "8a3f8df3",
   "metadata": {},
   "outputs": [
    {
     "data": {
      "text/plain": [
       "1419"
      ]
     },
     "execution_count": 31,
     "metadata": {},
     "output_type": "execute_result"
    }
   ],
   "source": [
    "len(df)"
   ]
  },
  {
   "cell_type": "code",
   "execution_count": 32,
   "id": "83144ab2",
   "metadata": {},
   "outputs": [],
   "source": [
    "urls = df['url']"
   ]
  },
  {
   "cell_type": "code",
   "execution_count": 33,
   "id": "c6651e50",
   "metadata": {},
   "outputs": [
    {
     "data": {
      "text/plain": [
       "0                            http://www.soc-motss.org:80/\n",
       "1                                    http://soc-motss.org\n",
       "2                            http://www.soc-motss.org:80/\n",
       "3                            http://www.soc-motss.org:80/\n",
       "4                            http://www.soc-motss.org:80/\n",
       "                              ...                        \n",
       "1414    https://www.soc-motss.org/treatment-for-planta...\n",
       "1415    https://www.soc-motss.org/why-buying-medical-l...\n",
       "1416    https://www.soc-motss.org/why-muscles-feel-tig...\n",
       "1417                https://www.soc-motss.org/contact-us/\n",
       "1418    https://www.youtube.com/embed/Z2jJ9SzxWGk?wmod...\n",
       "Name: url, Length: 1419, dtype: object"
      ]
     },
     "execution_count": 33,
     "metadata": {},
     "output_type": "execute_result"
    }
   ],
   "source": [
    "urls"
   ]
  },
  {
   "cell_type": "code",
   "execution_count": 34,
   "id": "c878a6b1",
   "metadata": {},
   "outputs": [
    {
     "data": {
      "text/plain": [
       "0       20050208125445\n",
       "1       20101201064017\n",
       "2       20040117014941\n",
       "3       20040825041620\n",
       "4       20030601052532\n",
       "             ...      \n",
       "1414                  \n",
       "1415                  \n",
       "1416                  \n",
       "1417                  \n",
       "1418                  \n",
       "Name: last_modified_date, Length: 1419, dtype: object"
      ]
     },
     "execution_count": 34,
     "metadata": {},
     "output_type": "execute_result"
    }
   ],
   "source": [
    "df['last_modified_date']"
   ]
  },
  {
   "cell_type": "code",
   "execution_count": 36,
   "id": "c34f9337",
   "metadata": {},
   "outputs": [
    {
     "data": {
      "text/plain": [
       "inf"
      ]
     },
     "execution_count": 36,
     "metadata": {},
     "output_type": "execute_result"
    }
   ],
   "source": [
    "df['last_modified_date'].mean()"
   ]
  },
  {
   "cell_type": "code",
   "execution_count": 37,
   "id": "0fdc32c2",
   "metadata": {},
   "outputs": [
    {
     "data": {
      "text/plain": [
       "0    \n",
       "Name: last_modified_date, dtype: object"
      ]
     },
     "execution_count": 37,
     "metadata": {},
     "output_type": "execute_result"
    }
   ],
   "source": [
    "df['last_modified_date'].mode()"
   ]
  },
  {
   "cell_type": "code",
   "execution_count": 35,
   "id": "cdc3dffe",
   "metadata": {},
   "outputs": [
    {
     "data": {
      "text/plain": [
       "20042081553045.242"
      ]
     },
     "execution_count": 35,
     "metadata": {},
     "output_type": "execute_result"
    }
   ],
   "source": [
    "df['crawl_date'].mean()"
   ]
  },
  {
   "cell_type": "code",
   "execution_count": 17,
   "id": "4342dfdb",
   "metadata": {},
   "outputs": [
    {
     "data": {
      "text/plain": [
       "20030330082214.0"
      ]
     },
     "execution_count": 17,
     "metadata": {},
     "output_type": "execute_result"
    }
   ],
   "source": [
    "df['crawl_date'].median()"
   ]
  },
  {
   "cell_type": "code",
   "execution_count": 21,
   "id": "3af630bd",
   "metadata": {},
   "outputs": [
    {
     "data": {
      "text/plain": [
       "0    20010227223221\n",
       "1    20010227223222\n",
       "Name: crawl_date, dtype: int64"
      ]
     },
     "execution_count": 21,
     "metadata": {},
     "output_type": "execute_result"
    }
   ],
   "source": [
    "df['crawl_date'].mode()"
   ]
  },
  {
   "cell_type": "code",
   "execution_count": 22,
   "id": "f03969af",
   "metadata": {},
   "outputs": [],
   "source": [
    "content = df['content']"
   ]
  },
  {
   "cell_type": "code",
   "execution_count": 23,
   "id": "4f6efe86",
   "metadata": {},
   "outputs": [
    {
     "data": {
      "text/plain": [
       "0                            Soc.Motss Archive 2005.02.08\n",
       "1                            Soc.Motss Archive 2010.12.08\n",
       "2                            Soc.Motss Archive 2004.01.16\n",
       "3                            Soc.Motss Archive 2004.08.24\n",
       "4                            Soc.Motss Archive 2003.06.01\n",
       "                              ...                        \n",
       "1414    Treatment For Plantar Fasciitis - SOC-MOTSS Sk...\n",
       "1415    Why Buying Medical Lasers Is Important - SOC-M...\n",
       "1416    Why Muscles Feel Tight After Playing Sports? -...\n",
       "1417    Contact Us - SOC-MOTSS Skip to content SOC-MOT...\n",
       "1418    7 Juices To Remove Uric Acid From Body And Rel...\n",
       "Name: content, Length: 1419, dtype: object"
      ]
     },
     "execution_count": 23,
     "metadata": {},
     "output_type": "execute_result"
    }
   ],
   "source": [
    "content"
   ]
  },
  {
   "cell_type": "code",
   "execution_count": 24,
   "id": "d3062cbb",
   "metadata": {},
   "outputs": [],
   "source": [
    "df.to_csv('soc-motss.csv')"
   ]
  },
  {
   "cell_type": "code",
   "execution_count": null,
   "id": "29b803ba",
   "metadata": {},
   "outputs": [],
   "source": []
  }
 ],
 "metadata": {
  "kernelspec": {
   "display_name": "Python 3 (ipykernel)",
   "language": "python",
   "name": "python3"
  },
  "language_info": {
   "codemirror_mode": {
    "name": "ipython",
    "version": 3
   },
   "file_extension": ".py",
   "mimetype": "text/x-python",
   "name": "python",
   "nbconvert_exporter": "python",
   "pygments_lexer": "ipython3",
   "version": "3.11.0"
  }
 },
 "nbformat": 4,
 "nbformat_minor": 5
}
